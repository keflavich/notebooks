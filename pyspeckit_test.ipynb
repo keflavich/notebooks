{
 "cells": [
  {
   "cell_type": "code",
   "execution_count": 1,
   "id": "understood-provincial",
   "metadata": {},
   "outputs": [],
   "source": [
    "from spectral_cube import SpectralCube"
   ]
  },
  {
   "cell_type": "code",
   "execution_count": 8,
   "id": "announced-budapest",
   "metadata": {},
   "outputs": [],
   "source": [
    "import pyspeckit"
   ]
  },
  {
   "cell_type": "code",
   "execution_count": 3,
   "id": "august-turkey",
   "metadata": {},
   "outputs": [
    {
     "name": "stderr",
     "output_type": "stream",
     "text": [
      "Cube is a Stokes cube, returning spectral cube for I component\n"
     ]
    }
   ],
   "source": [
    "cube = SpectralCube.read('/orange/adamginsburg/ALMA_IMF/2017.1.01355.L/RestructuredImagingResults/G351.77/B6/fullcubes_12m/G351.77_B6_spw7_12M_spw7.image.fits')"
   ]
  },
  {
   "cell_type": "code",
   "execution_count": 4,
   "id": "unauthorized-branch",
   "metadata": {},
   "outputs": [
    {
     "data": {
      "text/plain": [
       "'/orange/adamginsburg/miniconda3/envs/python39/bin/python'"
      ]
     },
     "execution_count": 4,
     "metadata": {},
     "output_type": "execute_result"
    }
   ],
   "source": [
    "import sys\n",
    "sys.executable"
   ]
  },
  {
   "cell_type": "code",
   "execution_count": 5,
   "id": "behind-purchase",
   "metadata": {},
   "outputs": [],
   "source": [
    "im = cube[50].value"
   ]
  },
  {
   "cell_type": "code",
   "execution_count": 6,
   "id": "pressed-coordinator",
   "metadata": {},
   "outputs": [
    {
     "data": {
      "text/plain": [
       "(467, 565)"
      ]
     },
     "execution_count": 6,
     "metadata": {},
     "output_type": "execute_result"
    }
   ],
   "source": [
    "mxy,mxx = np.unravel_index(np.nanargmax(im), cube.shape[1:])\n",
    "mxy,mxx"
   ]
  },
  {
   "cell_type": "code",
   "execution_count": 7,
   "id": "adequate-antibody",
   "metadata": {},
   "outputs": [
    {
     "ename": "NameError",
     "evalue": "name 'u' is not defined",
     "output_type": "error",
     "traceback": [
      "\u001b[0;31m---------------------------------------------------------------------------\u001b[0m",
      "\u001b[0;31mNameError\u001b[0m                                 Traceback (most recent call last)",
      "\u001b[0;32m<ipython-input-7-7a1bf5557b47>\u001b[0m in \u001b[0;36m<module>\u001b[0;34m\u001b[0m\n\u001b[0;32m----> 1\u001b[0;31m \u001b[0mcsp\u001b[0m \u001b[0;34m=\u001b[0m \u001b[0mcube\u001b[0m\u001b[0;34m[\u001b[0m\u001b[0;34m:\u001b[0m\u001b[0;34m,\u001b[0m\u001b[0mmxy\u001b[0m\u001b[0;34m,\u001b[0m\u001b[0mmxx\u001b[0m\u001b[0;34m]\u001b[0m\u001b[0;34m.\u001b[0m\u001b[0mto\u001b[0m\u001b[0;34m(\u001b[0m\u001b[0mu\u001b[0m\u001b[0;34m.\u001b[0m\u001b[0mK\u001b[0m\u001b[0;34m,\u001b[0m \u001b[0mu\u001b[0m\u001b[0;34m.\u001b[0m\u001b[0mbrightness_temperature\u001b[0m\u001b[0;34m(\u001b[0m\u001b[0mcsp\u001b[0m\u001b[0;34m.\u001b[0m\u001b[0mspectral_axis\u001b[0m\u001b[0;34m)\u001b[0m\u001b[0;34m)\u001b[0m\u001b[0;34m\u001b[0m\u001b[0;34m\u001b[0m\u001b[0m\n\u001b[0m",
      "\u001b[0;31mNameError\u001b[0m: name 'u' is not defined"
     ]
    }
   ],
   "source": [
    "csp = cube[:,mxy,mxx].to(u.K, u.brightness_temperature(csp.spectral_axis))"
   ]
  },
  {
   "cell_type": "code",
   "execution_count": null,
   "id": "aggregate-competition",
   "metadata": {},
   "outputs": [],
   "source": [
    "sp = pyspeckit.Spectrum.from_hdu(csp.hdu)"
   ]
  },
  {
   "cell_type": "code",
   "execution_count": null,
   "id": "moving-viewer",
   "metadata": {},
   "outputs": [],
   "source": [
    "sp.plotter()"
   ]
  },
  {
   "cell_type": "code",
   "execution_count": null,
   "id": "heated-spider",
   "metadata": {},
   "outputs": [],
   "source": [
    "from pyspeckit.spectrum.models import lte_molecule"
   ]
  },
  {
   "cell_type": "code",
   "execution_count": null,
   "id": "korean-match",
   "metadata": {},
   "outputs": [],
   "source": [
    "from astropy import units as u"
   ]
  },
  {
   "cell_type": "code",
   "execution_count": null,
   "id": "alpine-toddler",
   "metadata": {},
   "outputs": [],
   "source": [
    "freqs, aij, deg, EU, partfunc = lte_molecule.get_molecular_parameters('CH3OCHO', fmin=200*u.GHz, fmax=250*u.GHz, export_limit=1e5)"
   ]
  },
  {
   "cell_type": "code",
   "execution_count": null,
   "id": "italian-aberdeen",
   "metadata": {},
   "outputs": [],
   "source": [
    "mod = lte_molecule.generate_model(sp.xarr, 0*u.km/u.s, 5*u.km/u.s, 50*u.K, 1e16*u.cm**-2, freqs, aij, deg, EU, partfunc)"
   ]
  },
  {
   "cell_type": "code",
   "execution_count": null,
   "id": "successful-fantasy",
   "metadata": {},
   "outputs": [],
   "source": [
    "sp.plotter(clear=True)\n",
    "sp.plotter.axis.plot(sp.xarr, mod)"
   ]
  },
  {
   "cell_type": "code",
   "execution_count": null,
   "id": "functioning-tuning",
   "metadata": {},
   "outputs": [],
   "source": [
    "offset = np.nanpercentile(sp.data.filled(np.nan), 20)"
   ]
  },
  {
   "cell_type": "code",
   "execution_count": null,
   "id": "worse-chambers",
   "metadata": {},
   "outputs": [],
   "source": [
    "for species in ('CH3OH', 'CH3OCHO', 'CH3OCH3', 'CH3CCH', 'CH3CN', 'DCN', 'NH2CHO',):\n",
    "    freqs, aij, deg, EU, partfunc = lte_molecule.get_molecular_parameters(species, fmin=200*u.GHz, fmax=250*u.GHz, export_limit=1e5)\n",
    "    mod = lte_molecule.generate_model(sp.xarr, 0*u.km/u.s, 5*u.km/u.s, 50*u.K, 1e17*u.cm**-2, freqs, aij, deg, EU, partfunc)\n",
    "    sp.plotter(axis=pl.figure().gca())\n",
    "    sp.plotter.axis.plot(sp.xarr, mod+offset, label=species)\n",
    "    sp.plotter.axis.set_title(species)"
   ]
  },
  {
   "cell_type": "code",
   "execution_count": 1,
   "id": "unsigned-circulation",
   "metadata": {},
   "outputs": [
    {
     "data": {
      "text/plain": [
       "<module 'pyspeckit' from '/blue/adamginsburg/adamginsburg/repos/pyspeckit/pyspeckit/__init__.py'>"
      ]
     },
     "execution_count": 1,
     "metadata": {},
     "output_type": "execute_result"
    }
   ],
   "source": [
    "import pyspeckit, imp\n",
    "imp.reload(pyspeckit)"
   ]
  },
  {
   "cell_type": "code",
   "execution_count": 2,
   "id": "developed-vintage",
   "metadata": {},
   "outputs": [
    {
     "name": "stderr",
     "output_type": "stream",
     "text": [
      "This function (<function BaseSpectralCube.mean at 0x2b7deaa9bdc0>) requires loading the entire cube into memory and may therefore be slow.\n",
      "WARNING: No header given.  Creating an empty one.\n"
     ]
    },
    {
     "ename": "AttributeError",
     "evalue": "'Column' object has no attribute 'value'",
     "output_type": "error",
     "traceback": [
      "\u001b[0;31m---------------------------------------------------------------------------\u001b[0m",
      "\u001b[0;31mAttributeError\u001b[0m                            Traceback (most recent call last)",
      "\u001b[0;32m/blue/adamginsburg/adamginsburg/repos/pyspeckit/docs/example_LTE_lineforest.py\u001b[0m in \u001b[0;36m<module>\u001b[0;34m\u001b[0m\n\u001b[1;32m     47\u001b[0m \u001b[0mmods\u001b[0m \u001b[0;34m=\u001b[0m \u001b[0;34m[\u001b[0m\u001b[0;34m]\u001b[0m\u001b[0;34m\u001b[0m\u001b[0;34m\u001b[0m\u001b[0m\n\u001b[1;32m     48\u001b[0m \u001b[0;32mfor\u001b[0m \u001b[0mspecies\u001b[0m\u001b[0;34m,\u001b[0m \u001b[0maxis\u001b[0m \u001b[0;32min\u001b[0m \u001b[0mzip\u001b[0m\u001b[0;34m(\u001b[0m\u001b[0mspecies_list\u001b[0m\u001b[0;34m,\u001b[0m \u001b[0maxes\u001b[0m\u001b[0;34m)\u001b[0m\u001b[0;34m:\u001b[0m\u001b[0;34m\u001b[0m\u001b[0;34m\u001b[0m\u001b[0m\n\u001b[0;32m---> 49\u001b[0;31m     \u001b[0mfreqs\u001b[0m\u001b[0;34m,\u001b[0m \u001b[0maij\u001b[0m\u001b[0;34m,\u001b[0m \u001b[0mdeg\u001b[0m\u001b[0;34m,\u001b[0m \u001b[0mEU\u001b[0m\u001b[0;34m,\u001b[0m \u001b[0mpartfunc\u001b[0m \u001b[0;34m=\u001b[0m \u001b[0mlte_molecule\u001b[0m\u001b[0;34m.\u001b[0m\u001b[0mget_molecular_parameters_JPL\u001b[0m\u001b[0;34m(\u001b[0m\u001b[0mspecies\u001b[0m\u001b[0;34m,\u001b[0m \u001b[0mfmin\u001b[0m\u001b[0;34m=\u001b[0m\u001b[0;36m200\u001b[0m\u001b[0;34m*\u001b[0m\u001b[0mu\u001b[0m\u001b[0;34m.\u001b[0m\u001b[0mGHz\u001b[0m\u001b[0;34m,\u001b[0m \u001b[0mfmax\u001b[0m\u001b[0;34m=\u001b[0m\u001b[0;36m250\u001b[0m\u001b[0;34m*\u001b[0m\u001b[0mu\u001b[0m\u001b[0;34m.\u001b[0m\u001b[0mGHz\u001b[0m\u001b[0;34m)\u001b[0m\u001b[0;34m\u001b[0m\u001b[0;34m\u001b[0m\u001b[0m\n\u001b[0m\u001b[1;32m     50\u001b[0m     \u001b[0;31m#freqs, aij, deg, EU, partfunc = lte_molecule.get_molecular_parameters(species, fmin=200*u.GHz, fmax=250*u.GHz, export_limit=1e5, molecule_name_jpl=species_jpl,\u001b[0m\u001b[0;34m\u001b[0m\u001b[0;34m\u001b[0m\u001b[0;34m\u001b[0m\u001b[0m\n\u001b[1;32m     51\u001b[0m     \u001b[0;31m#                                                                      line_lists=['SLAIM'])\u001b[0m\u001b[0;34m\u001b[0m\u001b[0;34m\u001b[0m\u001b[0;34m\u001b[0m\u001b[0m\n",
      "\u001b[0;32m/blue/adamginsburg/adamginsburg/repos/pyspeckit/pyspeckit/spectrum/models/lte_molecule.py\u001b[0m in \u001b[0;36mget_molecular_parameters_JPL\u001b[0;34m(molecule_name_jpl, tex, fmin, fmax, **kwargs)\u001b[0m\n\u001b[1;32m    334\u001b[0m     \u001b[0mfreqs\u001b[0m \u001b[0;34m=\u001b[0m \u001b[0mjpltbl\u001b[0m\u001b[0;34m[\u001b[0m\u001b[0;34m'FREQ'\u001b[0m\u001b[0;34m]\u001b[0m\u001b[0;34m.\u001b[0m\u001b[0mquantity\u001b[0m\u001b[0;34m\u001b[0m\u001b[0;34m\u001b[0m\u001b[0m\n\u001b[1;32m    335\u001b[0m     \u001b[0mfreq_MHz\u001b[0m \u001b[0;34m=\u001b[0m \u001b[0mfreqs\u001b[0m\u001b[0;34m.\u001b[0m\u001b[0mto\u001b[0m\u001b[0;34m(\u001b[0m\u001b[0mu\u001b[0m\u001b[0;34m.\u001b[0m\u001b[0mMHz\u001b[0m\u001b[0;34m)\u001b[0m\u001b[0;34m.\u001b[0m\u001b[0mvalue\u001b[0m\u001b[0;34m\u001b[0m\u001b[0;34m\u001b[0m\u001b[0m\n\u001b[0;32m--> 336\u001b[0;31m     \u001b[0mdeg\u001b[0m \u001b[0;34m=\u001b[0m \u001b[0mjpltbl\u001b[0m\u001b[0;34m[\u001b[0m\u001b[0;34m'GUP'\u001b[0m\u001b[0;34m]\u001b[0m\u001b[0;34m.\u001b[0m\u001b[0mvalue\u001b[0m\u001b[0;34m\u001b[0m\u001b[0;34m\u001b[0m\u001b[0m\n\u001b[0m\u001b[1;32m    337\u001b[0m     \u001b[0mEL\u001b[0m \u001b[0;34m=\u001b[0m \u001b[0mjpltbl\u001b[0m\u001b[0;34m[\u001b[0m\u001b[0;34m'ELO'\u001b[0m\u001b[0;34m]\u001b[0m\u001b[0;34m.\u001b[0m\u001b[0mquantity\u001b[0m\u001b[0;34m.\u001b[0m\u001b[0mto\u001b[0m\u001b[0;34m(\u001b[0m\u001b[0mu\u001b[0m\u001b[0;34m.\u001b[0m\u001b[0merg\u001b[0m\u001b[0;34m,\u001b[0m \u001b[0mu\u001b[0m\u001b[0;34m.\u001b[0m\u001b[0mspectral\u001b[0m\u001b[0;34m(\u001b[0m\u001b[0;34m)\u001b[0m\u001b[0;34m)\u001b[0m\u001b[0;34m\u001b[0m\u001b[0;34m\u001b[0m\u001b[0m\n\u001b[1;32m    338\u001b[0m     \u001b[0mdE\u001b[0m \u001b[0;34m=\u001b[0m \u001b[0mfreqs\u001b[0m\u001b[0;34m.\u001b[0m\u001b[0mto\u001b[0m\u001b[0;34m(\u001b[0m\u001b[0mu\u001b[0m\u001b[0;34m.\u001b[0m\u001b[0merg\u001b[0m\u001b[0;34m,\u001b[0m \u001b[0mu\u001b[0m\u001b[0;34m.\u001b[0m\u001b[0mspectral\u001b[0m\u001b[0;34m(\u001b[0m\u001b[0;34m)\u001b[0m\u001b[0;34m)\u001b[0m\u001b[0;34m\u001b[0m\u001b[0;34m\u001b[0m\u001b[0m\n",
      "\u001b[0;31mAttributeError\u001b[0m: 'Column' object has no attribute 'value'"
     ]
    },
    {
     "data": {
      "image/png": "[encoded data removed]",
      "text/plain": [
       "<Figure size 1296x1008 with 7 Axes>"
      ]
     },
     "metadata": {
      "needs_background": "light"
     },
     "output_type": "display_data"
    }
   ],
   "source": [
    "%run /blue/adamginsburg/adamginsburg/repos/pyspeckit/docs/example_LTE_lineforest.py"
   ]
  },
  {
   "cell_type": "code",
   "execution_count": 10,
   "id": "occupational-artist",
   "metadata": {},
   "outputs": [
    {
     "name": "stdout",
     "output_type": "stream",
     "text": [
      "> \u001b[0;32m/orange/adamginsburg/repos/pyspeckit/pyspeckit/spectrum/models/lte_molecule.py\u001b[0m(336)\u001b[0;36mget_molecular_parameters_JPL\u001b[0;34m()\u001b[0m\n",
      "\u001b[0;32m    334 \u001b[0;31m    \u001b[0mfreqs\u001b[0m \u001b[0;34m=\u001b[0m \u001b[0mjpltbl\u001b[0m\u001b[0;34m[\u001b[0m\u001b[0;34m'FREQ'\u001b[0m\u001b[0;34m]\u001b[0m\u001b[0;34m.\u001b[0m\u001b[0mquantity\u001b[0m\u001b[0;34m\u001b[0m\u001b[0;34m\u001b[0m\u001b[0m\n",
      "\u001b[0m\u001b[0;32m    335 \u001b[0;31m    \u001b[0mfreq_MHz\u001b[0m \u001b[0;34m=\u001b[0m \u001b[0mfreqs\u001b[0m\u001b[0;34m.\u001b[0m\u001b[0mto\u001b[0m\u001b[0;34m(\u001b[0m\u001b[0mu\u001b[0m\u001b[0;34m.\u001b[0m\u001b[0mMHz\u001b[0m\u001b[0;34m)\u001b[0m\u001b[0;34m.\u001b[0m\u001b[0mvalue\u001b[0m\u001b[0;34m\u001b[0m\u001b[0;34m\u001b[0m\u001b[0m\n",
      "\u001b[0m\u001b[0;32m--> 336 \u001b[0;31m    \u001b[0mdeg\u001b[0m \u001b[0;34m=\u001b[0m \u001b[0mjpltbl\u001b[0m\u001b[0;34m[\u001b[0m\u001b[0;34m'GUP'\u001b[0m\u001b[0;34m]\u001b[0m\u001b[0;34m.\u001b[0m\u001b[0mvalue\u001b[0m\u001b[0;34m\u001b[0m\u001b[0;34m\u001b[0m\u001b[0m\n",
      "\u001b[0m\u001b[0;32m    337 \u001b[0;31m    \u001b[0mEL\u001b[0m \u001b[0;34m=\u001b[0m \u001b[0mjpltbl\u001b[0m\u001b[0;34m[\u001b[0m\u001b[0;34m'ELO'\u001b[0m\u001b[0;34m]\u001b[0m\u001b[0;34m.\u001b[0m\u001b[0mquantity\u001b[0m\u001b[0;34m.\u001b[0m\u001b[0mto\u001b[0m\u001b[0;34m(\u001b[0m\u001b[0mu\u001b[0m\u001b[0;34m.\u001b[0m\u001b[0merg\u001b[0m\u001b[0;34m,\u001b[0m \u001b[0mu\u001b[0m\u001b[0;34m.\u001b[0m\u001b[0mspectral\u001b[0m\u001b[0;34m(\u001b[0m\u001b[0;34m)\u001b[0m\u001b[0;34m)\u001b[0m\u001b[0;34m\u001b[0m\u001b[0;34m\u001b[0m\u001b[0m\n",
      "\u001b[0m\u001b[0;32m    338 \u001b[0;31m    \u001b[0mdE\u001b[0m \u001b[0;34m=\u001b[0m \u001b[0mfreqs\u001b[0m\u001b[0;34m.\u001b[0m\u001b[0mto\u001b[0m\u001b[0;34m(\u001b[0m\u001b[0mu\u001b[0m\u001b[0;34m.\u001b[0m\u001b[0merg\u001b[0m\u001b[0;34m,\u001b[0m \u001b[0mu\u001b[0m\u001b[0;34m.\u001b[0m\u001b[0mspectral\u001b[0m\u001b[0;34m(\u001b[0m\u001b[0;34m)\u001b[0m\u001b[0;34m)\u001b[0m\u001b[0;34m\u001b[0m\u001b[0;34m\u001b[0m\u001b[0m\n",
      "\u001b[0m\n"
     ]
    },
    {
     "name": "stdin",
     "output_type": "stream",
     "text": [
      "ipdb>  jpltbl['GUP']\n"
     ]
    },
    {
     "name": "stdout",
     "output_type": "stream",
     "text": [
      "<Column name='GUP' dtype='int64' length=689>\n",
      " 39\n",
      " 77\n",
      " 25\n",
      " 65\n",
      " 59\n",
      " 51\n",
      " 69\n",
      " 31\n",
      " 61\n",
      " 37\n",
      " 66\n",
      " 19\n",
      "...\n",
      " 31\n",
      " 15\n",
      " 15\n",
      " 43\n",
      " 69\n",
      " 63\n",
      " 79\n",
      "110\n",
      " 27\n",
      " 29\n",
      " 37\n",
      " 57\n"
     ]
    },
    {
     "name": "stdin",
     "output_type": "stream",
     "text": [
      "ipdb>  q\n"
     ]
    }
   ],
   "source": [
    "%debug"
   ]
  },
  {
   "cell_type": "code",
   "execution_count": 11,
   "id": "informative-matthew",
   "metadata": {},
   "outputs": [],
   "source": [
    "from astroquery.jplspec import JPLSpec"
   ]
  },
  {
   "cell_type": "code",
   "execution_count": 13,
   "id": "painful-bread",
   "metadata": {},
   "outputs": [
    {
     "data": {
      "text/plain": [
       "<astroquery.jplspec.core.JPLSpecClass at 0x2b35f76c6b50>"
      ]
     },
     "execution_count": 13,
     "metadata": {},
     "output_type": "execute_result"
    }
   ],
   "source": [
    "JPLSpecquery_lines"
   ]
  },
  {
   "cell_type": "code",
   "execution_count": 12,
   "id": "integrated-hudson",
   "metadata": {},
   "outputs": [
    {
     "data": {
      "text/html": [
       "<i>Table length=401</i>\n",
       "<table id=\"table47503261845488\" class=\"table-striped table-bordered table-condensed\">\n",
       "<thead><tr><th>TAG</th><th>NAME</th><th>NLINE</th><th>QLOG1</th><th>QLOG2</th><th>QLOG3</th><th>QLOG4</th><th>QLOG5</th><th>QLOG6</th><th>QLOG7</th><th>VER</th></tr></thead>\n",
       "<thead><tr><th>int64</th><th>str13</th><th>int64</th><th>float64</th><th>float64</th><th>float64</th><th>float64</th><th>float64</th><th>float64</th><th>float64</th><th>str2</th></tr></thead>\n",
       "<tr><td>1001</td><td>H-atom</td><td>1</td><td>0.6021</td><td>0.6021</td><td>0.6021</td><td>0.6021</td><td>0.6021</td><td>0.6021</td><td>0.6021</td><td>1</td></tr>\n",
       "<tr><td>2001</td><td>D-atom</td><td>1</td><td>0.7782</td><td>0.7782</td><td>0.7782</td><td>0.7782</td><td>0.7782</td><td>0.7782</td><td>0.7782</td><td>1</td></tr>\n",
       "<tr><td>3001</td><td>HD</td><td>1</td><td>0.7004</td><td>0.5864</td><td>0.4315</td><td>0.1962</td><td>0.0406</td><td>0.0014</td><td>0.0001</td><td>2</td></tr>\n",
       "<tr><td>4001</td><td>H2D+</td><td>32</td><td>1.8834</td><td>1.6986</td><td>1.4401</td><td>0.9882</td><td>0.4919</td><td>0.0846</td><td>0.0016</td><td>2*</td></tr>\n",
       "<tr><td>7001</td><td>Li-6-H</td><td>51</td><td>1.4493</td><td>1.3248</td><td>1.1515</td><td>0.8603</td><td>0.5803</td><td>0.3226</td><td>0.1138</td><td>2*</td></tr>\n",
       "<tr><td>8001</td><td>LiH</td><td>53</td><td>1.4581</td><td>1.3336</td><td>1.1602</td><td>0.8688</td><td>0.5883</td><td>0.3297</td><td>0.1188</td><td>2*</td></tr>\n",
       "<tr><td>8002</td><td>Li-6-D</td><td>80</td><td>1.6901</td><td>1.5631</td><td>1.3878</td><td>1.0921</td><td>0.8029</td><td>0.5263</td><td>0.2755</td><td>1</td></tr>\n",
       "<tr><td>9001</td><td>LiD</td><td>90</td><td>1.706</td><td>1.5788</td><td>1.4034</td><td>1.1075</td><td>0.8173</td><td>0.5403</td><td>0.2876</td><td>1</td></tr>\n",
       "<tr><td>12001</td><td>C-atom</td><td>2</td><td>0.8939</td><td>0.8744</td><td>0.8363</td><td>0.7295</td><td>0.5494</td><td>0.3075</td><td>0.0962</td><td>2</td></tr>\n",
       "<tr><td>13001</td><td>C-13-atom</td><td>7</td><td>1.195</td><td>1.1754</td><td>1.1374</td><td>1.0305</td><td>0.8504</td><td>0.6085</td><td>0.3972</td><td>2</td></tr>\n",
       "<tr><td>...</td><td>...</td><td>...</td><td>...</td><td>...</td><td>...</td><td>...</td><td>...</td><td>...</td><td>...</td><td>...</td></tr>\n",
       "<tr><td>104001</td><td>Cl-37-OOCl</td><td>17482</td><td>5.6427</td><td>5.4552</td><td>5.1915</td><td>4.7398</td><td>4.288</td><td>3.8367</td><td>3.3858</td><td>1</td></tr>\n",
       "<tr><td>111001</td><td>OBr-79-O</td><td>52631</td><td>4.9645</td><td>4.7773</td><td>4.5135</td><td>4.0637</td><td>3.6164</td><td>3.1738</td><td>2.7403</td><td>1*</td></tr>\n",
       "<tr><td>112001</td><td>Se-80-O2</td><td>7484</td><td>4.0326</td><td>3.8449</td><td>3.5805</td><td>3.1288</td><td>2.6777</td><td>2.2273</td><td>1.7782</td><td>1</td></tr>\n",
       "<tr><td>112002</td><td>C8O</td><td>644</td><td>4.6672</td><td>4.5413</td><td>4.3631</td><td>4.056</td><td>3.7429</td><td>3.4182</td><td>3.0722</td><td>1*</td></tr>\n",
       "<tr><td>113001</td><td>OBr-81-O</td><td>52840</td><td>4.9663</td><td>4.7779</td><td>4.5154</td><td>4.0656</td><td>3.6183</td><td>3.1757</td><td>2.7422</td><td>1*</td></tr>\n",
       "<tr><td>123001</td><td>HC9N</td><td>99</td><td>3.903</td><td>3.8724</td><td>3.8137</td><td>3.6572</td><td>3.4191</td><td>3.1285</td><td>2.8278</td><td>1</td></tr>\n",
       "<tr><td>124001</td><td>C9O</td><td>100</td><td>4.3271</td><td>4.203</td><td>4.027</td><td>3.726</td><td>3.425</td><td>3.124</td><td>2.8231</td><td>1*</td></tr>\n",
       "<tr><td>128001</td><td>S4</td><td>26640</td><td>5.1824</td><td>5.0196</td><td>4.7685</td><td>4.3192</td><td>3.8677</td><td>3.4163</td><td>2.9653</td><td>1*</td></tr>\n",
       "<tr><td>143001</td><td>IO</td><td>8833</td><td>3.8879</td><td>3.7514</td><td>3.5707</td><td>3.2712</td><td>2.9748</td><td>2.6832</td><td>2.4009</td><td>1*</td></tr>\n",
       "<tr><td>147001</td><td>HC11N</td><td>99</td><td>4.5521</td><td>4.4379</td><td>4.2663</td><td>3.9659</td><td>3.6648</td><td>3.3638</td><td>3.0629</td><td>2*</td></tr>\n",
       "</table>"
      ],
      "text/plain": [
       "<Table length=401>\n",
       " TAG      NAME    NLINE  QLOG1   QLOG2  ...  QLOG4   QLOG5   QLOG6   QLOG7  VER \n",
       "int64    str13    int64 float64 float64 ... float64 float64 float64 float64 str2\n",
       "------ ---------- ----- ------- ------- ... ------- ------- ------- ------- ----\n",
       "  1001     H-atom     1  0.6021  0.6021 ...  0.6021  0.6021  0.6021  0.6021    1\n",
       "  2001     D-atom     1  0.7782  0.7782 ...  0.7782  0.7782  0.7782  0.7782    1\n",
       "  3001         HD     1  0.7004  0.5864 ...  0.1962  0.0406  0.0014  0.0001    2\n",
       "  4001       H2D+    32  1.8834  1.6986 ...  0.9882  0.4919  0.0846  0.0016   2*\n",
       "  7001     Li-6-H    51  1.4493  1.3248 ...  0.8603  0.5803  0.3226  0.1138   2*\n",
       "  8001        LiH    53  1.4581  1.3336 ...  0.8688  0.5883  0.3297  0.1188   2*\n",
       "  8002     Li-6-D    80  1.6901  1.5631 ...  1.0921  0.8029  0.5263  0.2755    1\n",
       "  9001        LiD    90   1.706  1.5788 ...  1.1075  0.8173  0.5403  0.2876    1\n",
       " 12001     C-atom     2  0.8939  0.8744 ...  0.7295  0.5494  0.3075  0.0962    2\n",
       " 13001  C-13-atom     7   1.195  1.1754 ...  1.0305  0.8504  0.6085  0.3972    2\n",
       "   ...        ...   ...     ...     ... ...     ...     ...     ...     ...  ...\n",
       "104001 Cl-37-OOCl 17482  5.6427  5.4552 ...  4.7398   4.288  3.8367  3.3858    1\n",
       "111001   OBr-79-O 52631  4.9645  4.7773 ...  4.0637  3.6164  3.1738  2.7403   1*\n",
       "112001   Se-80-O2  7484  4.0326  3.8449 ...  3.1288  2.6777  2.2273  1.7782    1\n",
       "112002        C8O   644  4.6672  4.5413 ...   4.056  3.7429  3.4182  3.0722   1*\n",
       "113001   OBr-81-O 52840  4.9663  4.7779 ...  4.0656  3.6183  3.1757  2.7422   1*\n",
       "123001       HC9N    99   3.903  3.8724 ...  3.6572  3.4191  3.1285  2.8278    1\n",
       "124001        C9O   100  4.3271   4.203 ...   3.726   3.425   3.124  2.8231   1*\n",
       "128001         S4 26640  5.1824  5.0196 ...  4.3192  3.8677  3.4163  2.9653   1*\n",
       "143001         IO  8833  3.8879  3.7514 ...  3.2712  2.9748  2.6832  2.4009   1*\n",
       "147001      HC11N    99  4.5521  4.4379 ...  3.9659  3.6648  3.3638  3.0629   2*"
      ]
     },
     "execution_count": 12,
     "metadata": {},
     "output_type": "execute_result"
    }
   ],
   "source": [
    "JPLSpec.get_species_table()"
   ]
  },
  {
   "cell_type": "code",
   "execution_count": null,
   "id": "recognized-weapon",
   "metadata": {},
   "outputs": [],
   "source": []
  },
  {
   "cell_type": "code",
   "execution_count": null,
   "id": "thorough-neutral",
   "metadata": {},
   "outputs": [],
   "source": []
  },
  {
   "cell_type": "code",
   "execution_count": null,
   "id": "transsexual-oracle",
   "metadata": {},
   "outputs": [],
   "source": []
  },
  {
   "cell_type": "code",
   "execution_count": null,
   "id": "level-content",
   "metadata": {},
   "outputs": [],
   "source": []
  },
  {
   "cell_type": "code",
   "execution_count": null,
   "id": "raising-exhaust",
   "metadata": {},
   "outputs": [],
   "source": []
  },
  {
   "cell_type": "code",
   "execution_count": null,
   "id": "colonial-cuisine",
   "metadata": {},
   "outputs": [],
   "source": []
  },
  {
   "cell_type": "code",
   "execution_count": null,
   "id": "green-terminology",
   "metadata": {},
   "outputs": [],
   "source": []
  },
  {
   "cell_type": "code",
   "execution_count": null,
   "id": "returning-thumbnail",
   "metadata": {},
   "outputs": [],
   "source": []
  }
 ],
 "metadata": {
  "kernelspec": {
   "display_name": "python39",
   "language": "python",
   "name": "python39"
  },
  "language_info": {
   "codemirror_mode": {
    "name": "ipython",
    "version": 3
   },
   "file_extension": ".py",
   "mimetype": "text/x-python",
   "name": "python",
   "nbconvert_exporter": "python",
   "pygments_lexer": "ipython3",
   "version": "3.9.13"
  }
 },
 "nbformat": 4,
 "nbformat_minor": 5
}
