{
 "cells": [
  {
   "cell_type": "code",
   "execution_count": 4,
   "id": "06989d34-eca6-4260-8412-78444c16daa3",
   "metadata": {},
   "outputs": [],
   "source": [
    "%matplotlib widget\n",
    "import pylab as plt"
   ]
  },
  {
   "cell_type": "code",
   "execution_count": 5,
   "id": "10c4c496-b17d-4130-bbd5-3e17c7222d1c",
   "metadata": {},
   "outputs": [],
   "source": [
    "from astropy.io import fits\n",
    "from astropy.utils.data import get_pkg_data_filename\n",
    "filename = get_pkg_data_filename('photometry/M6707HH.fits')  \n",
    "hdulist = fits.open(filename)\n",
    "hdu = hdulist[0]"
   ]
  },
  {
   "cell_type": "code",
   "execution_count": null,
   "id": "e432e4fd-9c4e-4492-85a2-88192b1ab34c",
   "metadata": {},
   "outputs": [],
   "source": [
    "from astropy import units as u\n",
    "from regions import PixCoord, EllipsePixelRegion\n",
    "\n",
    "hdulist = fits.open(filename)\n",
    "hdu = hdulist[0]\n",
    "\n",
    "plt.clf()\n",
    "ax = plt.subplot(1, 1, 1)\n",
    "im = ax.imshow(hdu.data, cmap=plt.cm.viridis, interpolation='nearest', origin='lower')\n",
    "text = ax.text(122, 1002, '', size='small', color='yellow')\n",
    "ax.set_xlim(120, 180)\n",
    "ax.set_ylim(1000, 1059)\n",
    "\n",
    "def update_sel(region):\n",
    "    mask = region.to_mask(mode='subpixels', subpixels=10)\n",
    "    im.set_alpha((mask.to_image(hdu.data.shape) + 1) / 2)\n",
    "    total = mask.multiply(hdu.data).sum()\n",
    "    mean = np.average(hdu.data, weights=mask.to_image(hdu.data.shape))\n",
    "    text.set_text(f'Total: {total:g}\\nMean: {mean:g}')\n",
    "\n",
    "ellipse = EllipsePixelRegion(center=PixCoord(x=126, y=1031), width=8, height=4,\n",
    "                             angle=-0*u.deg, visual={'color': 'yellow'})\n",
    "selector = ellipse.as_mpl_selector(ax, callback=update_sel, use_data_coordinates=True)\n",
    "\n",
    "hdulist.close()"
   ]
  },
  {
   "cell_type": "code",
   "execution_count": null,
   "id": "12215abc-70fa-43ff-a3c2-ab405e7e7b80",
   "metadata": {},
   "outputs": [],
   "source": []
  },
  {
   "cell_type": "code",
   "execution_count": null,
   "id": "23b0da77-b9fc-4beb-9023-e4c19b5bf37d",
   "metadata": {},
   "outputs": [],
   "source": []
  }
 ],
 "metadata": {
  "kernelspec": {
   "display_name": "py39",
   "language": "python",
   "name": "py39"
  },
  "language_info": {
   "codemirror_mode": {
    "name": "ipython",
    "version": 3
   },
   "file_extension": ".py",
   "mimetype": "text/x-python",
   "name": "python",
   "nbconvert_exporter": "python",
   "pygments_lexer": "ipython3",
   "version": "3.9.6"
  }
 },
 "nbformat": 4,
 "nbformat_minor": 5
}
