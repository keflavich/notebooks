{
 "cells": [
  {
   "cell_type": "code",
   "execution_count": 1,
   "id": "c1e8f4d7-b504-47dc-96cc-ccba4c9d0cf2",
   "metadata": {},
   "outputs": [],
   "source": [
    "fn = '/orange/adamginsburg/w51/vla/16B-202_W51QKa/merge/W51North_QbandAarray_cont_spws_continuum_cal_clean_2terms_robust0_wproj_selfcal16_final.image.tt0.pbcor.fits'"
   ]
  },
  {
   "cell_type": "code",
   "execution_count": 2,
   "id": "c6b10a21-9618-4425-bc31-7824441fa45e",
   "metadata": {},
   "outputs": [],
   "source": [
    "from astropy.io import fits\n",
    "from astropy import wcs"
   ]
  },
  {
   "cell_type": "code",
   "execution_count": 3,
   "id": "9c716d7f-de13-4810-bd9c-85fff9b83b09",
   "metadata": {},
   "outputs": [
    {
     "name": "stderr",
     "output_type": "stream",
     "text": [
      "WARNING: FITSFixedWarning: 'datfix' made the change 'Set MJD-OBS to 57748.656910 from DATE-OBS'. [astropy.wcs.wcs]\n",
      "WARNING: FITSFixedWarning: 'obsfix' made the change 'Set OBSGEO-L to  -107.618000 from OBSGEO-[XYZ].\n",
      "Set OBSGEO-B to    34.078827 from OBSGEO-[XYZ].\n",
      "Set OBSGEO-H to     2115.607 from OBSGEO-[XYZ]'. [astropy.wcs.wcs]\n"
     ]
    }
   ],
   "source": [
    "fh = fits.open(fn)\n",
    "ww = wcs.WCS(fh[0].header)"
   ]
  },
  {
   "cell_type": "code",
   "execution_count": 7,
   "id": "0790497e-b2ce-479a-9c53-c1fbb7ddc498",
   "metadata": {},
   "outputs": [],
   "source": [
    "ypixel_grid, xpixel_grid = np.mgrid[100:110,100:110]\n",
    "rapix, decpix = ww.pixel_to_world_values(xpixel_grid, ypixel_grid)"
   ]
  },
  {
   "cell_type": "code",
   "execution_count": null,
   "id": "99425e62-c4eb-4d81-9753-ceae7ec0cccb",
   "metadata": {},
   "outputs": [],
   "source": []
  }
 ],
 "metadata": {
  "kernelspec": {
   "display_name": "Py 3.9",
   "language": "python",
   "name": "python39"
  },
  "language_info": {
   "codemirror_mode": {
    "name": "ipython",
    "version": 3
   },
   "file_extension": ".py",
   "mimetype": "text/x-python",
   "name": "python",
   "nbconvert_exporter": "python",
   "pygments_lexer": "ipython3",
   "version": "3.9.7"
  }
 },
 "nbformat": 4,
 "nbformat_minor": 5
}
