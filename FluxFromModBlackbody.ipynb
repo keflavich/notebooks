{
 "cells": [
  {
   "cell_type": "markdown",
   "metadata": {},
   "source": [
    "A blackbody has the form:\n",
    "\n",
    "$$B_\\nu = \\frac{2 h \\nu^3}{c^2} (e^{h \\nu / k_B T} - 1)^{-1}$$\n",
    "\n",
    "with units $[B_\\nu] = \\mathrm{Jy}$\n",
    "\n",
    "The spectral flux density from a blackbody $F_{\\nu} = \\pi B_{\\nu}$ from integrating over a hemisphere (see eqn 2.107-2.110 from https://www.cv.nrao.edu/~sransom/web/Ch2.html)."
   ]
  },
  {
   "cell_type": "markdown",
   "metadata": {},
   "source": [
    "The modified blackbody for dust is only valid in the Rayleigh-Jeans regime ($\\nu << \\nu_{peak}$, where $\\nu_{peak}$ is the frequency of the peak of the blackbody at a given temperature) and is given by:\n",
    "\n",
    "$$F_\\nu = \\pi \\frac{2 h \\nu^3}{c^2} (e^{h \\nu / k_B T} - 1)^{-1} (1-e^{-\\kappa_\\nu \\Sigma})$$\n",
    "\n",
    "where $\\kappa_\\nu = \\kappa_{\\nu_0} \\left(\\frac{\\nu}{\\nu_0}\\right)^{\\beta}$ is the dust opacity index with units $[\\kappa_\\nu] = \\frac{\\mathrm{cm}^2}{\\mathrm{g}}$.  \n",
    "\n",
    "$\\Sigma$ is the surface density in $[\\Sigma] = \\frac{\\mathrm{g}}{\\mathrm{cm^2}}$.  \n",
    "\n",
    "The optical depth $\\tau = \\kappa_\\nu \\Sigma$\n",
    "\n",
    "This approximates, in the $\\tau<<1$ regime, to:\n",
    "$$F_\\nu = \\pi \\frac{2 h \\nu^3}{c^2} (e^{h \\nu / k_B T} - 1)^{-1} \\kappa_\\nu \\Sigma$$\n",
    "\n",
    "The mass of an object $M = \\Sigma A$, where $A$ is the object's area.  We usually assume spheres (or, projected circles), such that $A = \\Sigma \\pi r^2$, where $r$ is the object's radius.\n",
    "\n",
    "$$F_\\nu = \\pi \\frac{2 h \\nu^3}{c^2} (e^{h \\nu / k_B T} - 1)^{-1} \\kappa_\\nu \\frac{M}{\\pi r^2}$$\n",
    "\n",
    "\n",
    "\n",
    "\n"
   ]
  },
  {
   "cell_type": "markdown",
   "metadata": {},
   "source": [
    "A blackbody of size $r$ at distance $d$ will produce an observed spectral flux density\n",
    "\n",
    "$$S_\\nu = B_\\nu \\frac{\\pi r^2}{d^2}$$\n",
    "\n",
    "\n",
    "(section 1.4, eqn 1.6 of Tools of Radio Astronomy by Rohlfs & Wilson, 2009)\n",
    "\n",
    "Note that $\\Omega = \\frac{\\pi r^2}{d^2}$ is the angle a circular (or spherical) object subtends on the sky."
   ]
  },
  {
   "cell_type": "markdown",
   "metadata": {},
   "source": [
    "Putting these together, in the $\\tau << 1$ limit, the received flux from a blackbody is:\n",
    "\n",
    "$$S_\\nu =  \\frac{2 h \\nu^3}{c^2} (e^{h \\nu / k_B T} - 1)^{-1} \\kappa_\\nu \\frac{M}{\\pi r^2} \\frac{\\pi r^2}{  d^2}$$"
   ]
  },
  {
   "cell_type": "markdown",
   "metadata": {},
   "source": [
    "The source areas cancel:\n",
    "\n",
    "$$S_\\nu = \\frac{2 h \\nu^3}{c^2} (e^{h \\nu / k_B T} - 1)^{-1} \\kappa_\\nu M \\frac{1}{ d^2}$$"
   ]
  },
  {
   "cell_type": "markdown",
   "metadata": {},
   "source": [
    "Some rearrangements yield:\n",
    "\n",
    "$$S_\\nu = \\frac{2 h \\nu^3}{c^2} (e^{h \\nu / k_B T} - 1)^{-1} \\frac{\\kappa_\\nu M}{d^2}$$\n",
    "\n",
    "$$S_\\nu = B_{\\nu} \\frac{\\kappa_\\nu M}{d^2}$$"
   ]
  },
  {
   "cell_type": "markdown",
   "metadata": {},
   "source": [
    "Solving for $M$ yields:\n",
    "$$M = \\frac{S_{\\nu} d^2}{\\kappa_\\nu B_\\nu}$$"
   ]
  },
  {
   "cell_type": "markdown",
   "metadata": {},
   "source": [
    "We can replace $B_\\nu$ with the Rayleigh-Jeans version\n",
    "$$B_\\nu = \\frac{2\\nu^2 k_B T}{c^2}$$\n",
    "to obtain\n",
    "$$M = \\frac{S_\\nu d^2 c^2}{2\\kappa_\\nu \\nu^2 k_B T}$$"
   ]
  },
  {
   "cell_type": "markdown",
   "metadata": {},
   "source": [
    "and\n",
    "$$S_\\nu = \\frac{2 M \\kappa_\\nu \\nu^2 k_B T}{d^2 c^2}$$"
   ]
  },
  {
   "cell_type": "markdown",
   "metadata": {},
   "source": [
    "Substituting $\\kappa_\\nu = \\kappa_{\\nu_0} \\left(\\frac{\\nu}{\\nu_0}\\right)^{\\beta}$, we get:"
   ]
  },
  {
   "cell_type": "markdown",
   "metadata": {},
   "source": [
    "$$S_\\nu = \\frac{2 M \\kappa_{\\nu_0} \\nu^{2+\\beta} k_B T}{d^2 c^2 \\nu_0^\\beta}$$"
   ]
  }
 ],
 "metadata": {
  "kernelspec": {
   "display_name": "Python 3",
   "language": "python",
   "name": "python3"
  },
  "language_info": {
   "codemirror_mode": {
    "name": "ipython",
    "version": 3
   },
   "file_extension": ".py",
   "mimetype": "text/x-python",
   "name": "python",
   "nbconvert_exporter": "python",
   "pygments_lexer": "ipython3",
   "version": "3.7.3"
  }
 },
 "nbformat": 4,
 "nbformat_minor": 4
}
