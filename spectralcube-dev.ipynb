{
 "cells": [
  {
   "cell_type": "code",
   "execution_count": 1,
   "id": "c3e6fd46-2247-424a-8da0-2d27b1b2f32e",
   "metadata": {},
   "outputs": [
    {
     "name": "stderr",
     "output_type": "stream",
     "text": [
      "WARNING: BeamWarning: Cannot load beam from header. [spectral_cube.lower_dimensional_structures]\n"
     ]
    },
    {
     "data": {
      "text/plain": [
       "<matplotlib.image.AxesImage at 0x2acdcb8c8fd0>"
      ]
     },
     "execution_count": 1,
     "metadata": {},
     "output_type": "execute_result"
    },
    {
     "data": {
      "image/png": "[encoded data removed]",
      "text/plain": [
       "<Figure size 432x288 with 1 Axes>"
      ]
     },
     "metadata": {
      "needs_background": "light"
     },
     "output_type": "display_data"
    }
   ],
   "source": [
    "from spectral_cube import SpectralCube\n",
    "import numpy as np\n",
    "import matplotlib.pyplot as plt\n",
    "\n",
    "# Read in a spectral cube\n",
    "cubename = '/orange/adamginsburg/cmz/g5/G5/sum/newcombination/g5.H2CO.spw23_test.fits' # Example data\n",
    "cube = SpectralCube.read(cubename)\n",
    "\n",
    "# Make 2D example so it will run faster, same result of edges being lost when using a cube\n",
    "mom0 = cube.moment0() # Moment 0 of original cube\n",
    "repro_mom0 = mom0.reproject(mom0.header, order='nearest-neighbor') # Reproject Moment 0 to same header\n",
    "\n",
    "# Get the masks of the Moment 0's (there is no get_mask_array for Projection objects)\n",
    "mom0_mask = np.isfinite(mom0)\n",
    "repro_mom0_mask = np.isfinite(repro_mom0)\n",
    "\n",
    "# Find where the masks are different with xor\n",
    "edges = np.logical_xor(mom0_mask, repro_mom0_mask)\n",
    "\n",
    "# Plot an image of the edges\n",
    "plt.imshow(edges)"
   ]
  },
  {
   "cell_type": "code",
   "execution_count": 2,
   "id": "ad28f450-f084-40b2-83ba-3ed1c6c6e20f",
   "metadata": {},
   "outputs": [],
   "source": [
    "from astropy.wcs import WCS\n",
    "import reproject"
   ]
  },
  {
   "cell_type": "code",
   "execution_count": 3,
   "id": "6e4c7975-f43b-422f-a9a5-647f091d2727",
   "metadata": {},
   "outputs": [],
   "source": [
    "hdu = mom0.hdu\n",
    "ww = mom0.wcs\n",
    "reproj, weight = reproject.reproject_interp(hdu, mom0.header, order='nearest-neighbor')"
   ]
  },
  {
   "cell_type": "code",
   "execution_count": 4,
   "id": "eff294ac-1909-4c57-bfa6-030b4621dcf1",
   "metadata": {},
   "outputs": [
    {
     "data": {
      "text/plain": [
       "array([0., 1.])"
      ]
     },
     "execution_count": 4,
     "metadata": {},
     "output_type": "execute_result"
    }
   ],
   "source": [
    "np.unique(weight)"
   ]
  },
  {
   "cell_type": "code",
   "execution_count": 5,
   "id": "2b2debf5-ba79-41e9-9b36-5c778f3b6649",
   "metadata": {},
   "outputs": [
    {
     "data": {
      "text/plain": [
       "(51148, 51148)"
      ]
     },
     "execution_count": 5,
     "metadata": {},
     "output_type": "execute_result"
    }
   ],
   "source": [
    "np.isnan(reproj).sum(), np.isnan(mom0).sum()"
   ]
  },
  {
   "cell_type": "code",
   "execution_count": 6,
   "id": "34a5a8bb-3b44-459f-8c43-f842eae60019",
   "metadata": {},
   "outputs": [
    {
     "data": {
      "text/plain": [
       "<matplotlib.image.AxesImage at 0x2acdcb9d3970>"
      ]
     },
     "execution_count": 6,
     "metadata": {},
     "output_type": "execute_result"
    },
    {
     "data": {
      "image/png": "[encoded data removed]",
      "text/plain": [
       "<Figure size 432x288 with 1 Axes>"
      ]
     },
     "metadata": {
      "needs_background": "light"
     },
     "output_type": "display_data"
    }
   ],
   "source": [
    "plt.imshow((weight==0) ^ (np.isnan(mom0)))"
   ]
  },
  {
   "cell_type": "code",
   "execution_count": 7,
   "id": "116c9622-42e4-42ee-a46d-1815f8dfe2e8",
   "metadata": {},
   "outputs": [
    {
     "name": "stderr",
     "output_type": "stream",
     "text": [
      "WARNING: PossiblySlowWarning: This function (<function BaseSpectralCube.reproject at 0x2acdb4820040>) requires loading the entire cube into memory and may therefore be slow. [spectral_cube.utils]\n",
      "WARNING: WCSWarning: WCS1 is missing card PV2_1 [spectral_cube.wcs_utils]\n",
      "WARNING: WCSWarning: WCS1 is missing card PV2_2 [spectral_cube.wcs_utils]\n",
      "WARNING: WCSWarning: WCS1 is missing card PV2_1 [spectral_cube.wcs_utils]\n",
      "WARNING: WCSWarning: WCS1 is missing card PV2_2 [spectral_cube.wcs_utils]\n"
     ]
    },
    {
     "data": {
      "text/plain": [
       "<matplotlib.image.AxesImage at 0x2acdb99bcb20>"
      ]
     },
     "execution_count": 7,
     "metadata": {},
     "output_type": "execute_result"
    },
    {
     "data": {
      "image/png": "[encoded data removed]",
      "text/plain": [
       "<Figure size 432x288 with 1 Axes>"
      ]
     },
     "metadata": {
      "needs_background": "light"
     },
     "output_type": "display_data"
    }
   ],
   "source": [
    "from spectral_cube import SpectralCube\n",
    "import numpy as np\n",
    "import matplotlib.pyplot as plt\n",
    "\n",
    "# Read in a spectral cube\n",
    "cubename = '/orange/adamginsburg/cmz/g5/G5/sum/newcombination/g5.H2CO.spw23_test.fits' # Example data\n",
    "cube = SpectralCube.read(cubename)\n",
    "\n",
    "cutcube = cube[:1]\n",
    "repro_cutcube = cutcube.reproject(cutcube.header)\n",
    "\n",
    "cutcube_mask = np.isfinite(cutcube)\n",
    "repro_cutcube_mask = np.isfinite(repro_cutcube)\n",
    "\n",
    "edges = np.logical_xor(cutcube_mask, repro_cutcube_mask)\n",
    "\n",
    "plt.imshow(edges[0])"
   ]
  },
  {
   "cell_type": "code",
   "execution_count": 8,
   "id": "34d2543a-e830-46b9-b318-dd7500e4b5b2",
   "metadata": {},
   "outputs": [
    {
     "name": "stderr",
     "output_type": "stream",
     "text": [
      "WARNING: PossiblySlowWarning: This function (<function BaseSpectralCube.reproject at 0x2acdb4820040>) requires loading the entire cube into memory and may therefore be slow. [spectral_cube.utils]\n",
      "WARNING: WCSWarning: WCS1 is missing card PV2_1 [spectral_cube.wcs_utils]\n",
      "WARNING: WCSWarning: WCS1 is missing card PV2_2 [spectral_cube.wcs_utils]\n",
      "WARNING: WCSWarning: WCS1 is missing card PV2_1 [spectral_cube.wcs_utils]\n",
      "WARNING: WCSWarning: WCS1 is missing card PV2_2 [spectral_cube.wcs_utils]\n"
     ]
    },
    {
     "data": {
      "text/plain": [
       "<matplotlib.image.AxesImage at 0x2acdb8505cd0>"
      ]
     },
     "execution_count": 8,
     "metadata": {},
     "output_type": "execute_result"
    },
    {
     "data": {
      "image/png": "[encoded data removed]",
      "text/plain": [
       "<Figure size 432x288 with 1 Axes>"
      ]
     },
     "metadata": {
      "needs_background": "light"
     },
     "output_type": "display_data"
    }
   ],
   "source": [
    "from spectral_cube import SpectralCube\n",
    "import numpy as np\n",
    "import matplotlib.pyplot as plt\n",
    "\n",
    "# Read in a spectral cube\n",
    "cubename = '/orange/adamginsburg/cmz/g5/G5/sum/newcombination/g5.H2CO.spw23_test.fits' # Example data\n",
    "cube = SpectralCube.read(cubename)\n",
    "\n",
    "cutcube = cube[:1]\n",
    "repro_cutcube = cutcube.reproject(cutcube.header, order='nearest-neighbor')\n",
    "\n",
    "cutcube_mask = np.isfinite(cutcube)\n",
    "repro_cutcube_mask = np.isfinite(repro_cutcube)\n",
    "\n",
    "edges = np.logical_xor(cutcube_mask, repro_cutcube_mask)\n",
    "\n",
    "plt.imshow(edges[0])"
   ]
  },
  {
   "cell_type": "code",
   "execution_count": null,
   "id": "49582667-c1cf-493d-b782-f6fbc2aa6494",
   "metadata": {},
   "outputs": [],
   "source": []
  },
  {
   "cell_type": "code",
   "execution_count": 10,
   "id": "cbbcb534-85ee-4bc7-98bd-6bde7dcb291b",
   "metadata": {},
   "outputs": [],
   "source": [
    "from spectral_cube.cube_utils import mosaic_cubes"
   ]
  },
  {
   "cell_type": "code",
   "execution_count": 13,
   "id": "850573af-4d57-4165-973c-9d077f17dfc3",
   "metadata": {},
   "outputs": [
    {
     "data": {
      "text/plain": [
       "(SpectralCube with shape=(5, 226, 254):\n",
       "  n_x:    254  type_x: RA---TAN  unit_x: deg    range:   269.715466 deg:  269.944124 deg\n",
       "  n_y:    226  type_y: DEC--TAN  unit_y: deg    range:   -24.619272 deg:  -24.434399 deg\n",
       "  n_s:      5  type_s: FREQ      unit_s: Hz     range: 218846146366.949 Hz:218848099571.800 Hz,\n",
       " SpectralCube with shape=(5, 226, 254):\n",
       "  n_x:    254  type_x: RA---TAN  unit_x: deg    range:   269.715553 deg:  269.944043 deg\n",
       "  n_y:    226  type_y: DEC--TAN  unit_y: deg    range:   -24.526428 deg:  -24.341555 deg\n",
       "  n_s:      5  type_s: FREQ      unit_s: Hz     range: 218846146366.949 Hz:218848099571.800 Hz)"
      ]
     },
     "execution_count": 13,
     "metadata": {},
     "output_type": "execute_result"
    }
   ],
   "source": [
    "part1 = cube[:5, :round(cube.shape[1]*2./3.),:]\n",
    "part2 = cube[:5, round(cube.shape[1]/3.):,:]\n",
    "part1, part2"
   ]
  },
  {
   "cell_type": "code",
   "execution_count": 14,
   "id": "776b5d54-f932-4866-b80d-b894fa9104e1",
   "metadata": {},
   "outputs": [],
   "source": [
    "cubes = [part1, part2]"
   ]
  },
  {
   "cell_type": "code",
   "execution_count": 15,
   "id": "75544cd8-e4ea-4143-846c-24ed7c7e216d",
   "metadata": {},
   "outputs": [
    {
     "name": "stderr",
     "output_type": "stream",
     "text": [
      "WARNING: PossiblySlowWarning: This function (<function BaseSpectralCube.reproject at 0x2acdb4820040>) requires loading the entire cube into memory and may therefore be slow. [spectral_cube.utils]\n",
      "WARNING: WCSWarning: WCS1 is missing card PV2_1 [spectral_cube.wcs_utils]\n",
      "WARNING: WCSWarning: WCS1 is missing card PV2_2 [spectral_cube.wcs_utils]\n",
      "WARNING: WCSWarning: WCS1 is missing card PV2_1 [spectral_cube.wcs_utils]\n",
      "WARNING: WCSWarning: WCS1 is missing card PV2_2 [spectral_cube.wcs_utils]\n",
      "WARNING: WCSWarning: WCS1 is missing card PV2_1 [spectral_cube.wcs_utils]\n",
      "WARNING: WCSWarning: WCS1 is missing card PV2_2 [spectral_cube.wcs_utils]\n",
      "WARNING: WCSWarning: WCS1 is missing card PV2_1 [spectral_cube.wcs_utils]\n",
      "WARNING: WCSWarning: WCS1 is missing card PV2_2 [spectral_cube.wcs_utils]\n",
      "WARNING: WCSWarning: WCS1 is missing card PV2_1 [spectral_cube.wcs_utils]\n",
      "WARNING: WCSWarning: WCS1 is missing card PV2_2 [spectral_cube.wcs_utils]\n",
      "WARNING: PossiblySlowWarning: This function (<function BaseSpectralCube.reproject at 0x2acdb4820040>) requires loading the entire cube into memory and may therefore be slow. [spectral_cube.utils]\n",
      "WARNING: WCSWarning: WCS1 is missing card PV2_1 [spectral_cube.wcs_utils]\n",
      "WARNING: WCSWarning: WCS1 is missing card PV2_2 [spectral_cube.wcs_utils]\n",
      "WARNING: WCSWarning: WCS1 is missing card PV2_1 [spectral_cube.wcs_utils]\n",
      "WARNING: WCSWarning: WCS1 is missing card PV2_2 [spectral_cube.wcs_utils]\n",
      "WARNING: WCSWarning: WCS1 is missing card PV2_1 [spectral_cube.wcs_utils]\n",
      "WARNING: WCSWarning: WCS1 is missing card PV2_2 [spectral_cube.wcs_utils]\n",
      "WARNING: WCSWarning: WCS1 is missing card PV2_1 [spectral_cube.wcs_utils]\n",
      "WARNING: WCSWarning: WCS1 is missing card PV2_2 [spectral_cube.wcs_utils]\n",
      "WARNING: WCSWarning: WCS1 is missing card PV2_1 [spectral_cube.wcs_utils]\n",
      "WARNING: WCSWarning: WCS1 is missing card PV2_2 [spectral_cube.wcs_utils]\n",
      "/blue/adamginsburg/adamginsburg/repos/spectral-cube/spectral_cube/cube_utils.py:845: RuntimeWarning: invalid value encountered in divide\n",
      "  final_array[ss] /= mask_opt\n"
     ]
    }
   ],
   "source": [
    "result = mosaic_cubes([part1, part2], order='nearest-neighbor')"
   ]
  },
  {
   "cell_type": "code",
   "execution_count": 21,
   "id": "461b7480-5482-4527-aa9a-d1b334376b53",
   "metadata": {},
   "outputs": [],
   "source": [
    "from spectral_cube.cube_utils import combine_headers\n",
    "spectral_block_size = 100\n",
    "kwargs = {'order': 'nearest-neighbor'}"
   ]
  },
  {
   "cell_type": "code",
   "execution_count": 40,
   "id": "7fd1ba89-2ed5-4a40-b933-da27e208dc43",
   "metadata": {},
   "outputs": [
    {
     "name": "stderr",
     "output_type": "stream",
     "text": [
      "/orange/adamginsburg/miniconda3/envs/python39/lib/python3.9/site-packages/yt/utilities/logger.py:4: VisibleDeprecationWarning: The configuration file /home/adamginsburg/.config/yt/ytrc is deprecated in favor of /home/adamginsburg/.config/yt/yt.toml. Currently, both are present. Please manually remove the deprecated one to silence this warning.\n",
      "Deprecated since v4.0.0. This feature will be removed in v4.1.0\n",
      "  from yt.config import ytcfg\n"
     ]
    }
   ],
   "source": [
    "from spectral_cube.tests.test_spectral_cube import cube_and_raw"
   ]
  },
  {
   "cell_type": "code",
   "execution_count": 87,
   "id": "01301cca-df9a-48a8-8fa7-f0408aeec84d",
   "metadata": {},
   "outputs": [
    {
     "name": "stdout",
     "output_type": "stream",
     "text": [
      "12.130082662959833 12.130082662959833\n",
      "12.130082662959833 K\n"
     ]
    },
    {
     "name": "stderr",
     "output_type": "stream",
     "text": [
      "WARNING: PossiblySlowWarning: This function (<function BaseSpectralCube.sum at 0x2acdb481a790>) requires loading the entire cube into memory and may therefore be slow. [spectral_cube.utils]\n"
     ]
    }
   ],
   "source": [
    "cube, data = cube_and_raw('/orange/adamginsburg/repos/spectral-cube/.tox/test/lib/python3.7/site-packages/spectral_cube/tests/data/adv.fits', use_dask=False)\n",
    "data_ = np.zeros([x+2 for x in data.shape])\n",
    "data_[1:data.shape[0]+1, 1:data.shape[1]+1, 1:data.shape[2]+1] = data\n",
    "print(data_.sum(), data.sum())\n",
    "data = data_\n",
    "cube._data = data\n",
    "cube._mask = None #np.isfinite(data)\n",
    "print(cube.sum())\n",
    "\n",
    "part1 = cube[:, :round(cube.shape[1]*2./3.),:]\n",
    "part2 = cube[:, round(cube.shape[1]/3.):,:]\n",
    "\n",
    "cubes = [part1, part2]"
   ]
  },
  {
   "cell_type": "code",
   "execution_count": 88,
   "id": "d9fb8cbd-df84-4b35-b21d-e4c771e0b2b3",
   "metadata": {},
   "outputs": [
    {
     "name": "stdout",
     "output_type": "stream",
     "text": [
      "INFO: Auto-setting vmin to -9.682e-02 [aplpy.core]\n",
      "INFO: Auto-setting vmax to  1.075e+00 [aplpy.core]\n"
     ]
    },
    {
     "data": {
      "image/png": "[encoded data removed]",
      "text/plain": [
       "<Figure size 720x648 with 2 Axes>"
      ]
     },
     "metadata": {
      "needs_background": "light"
     },
     "output_type": "display_data"
    }
   ],
   "source": [
    "cube[1].quicklook()"
   ]
  },
  {
   "cell_type": "code",
   "execution_count": 91,
   "id": "80d10eea-82ec-4ed1-b8bb-77b28d69e5fc",
   "metadata": {},
   "outputs": [
    {
     "name": "stdout",
     "output_type": "stream",
     "text": [
      "INFO: Auto-setting vmin to -9.642e-02 [aplpy.core]\n",
      "INFO: Auto-setting vmax to  1.070e+00 [aplpy.core]\n"
     ]
    },
    {
     "data": {
      "image/png": "[encoded data removed]",
      "text/plain": [
       "<Figure size 720x648 with 2 Axes>"
      ]
     },
     "metadata": {
      "needs_background": "light"
     },
     "output_type": "display_data"
    }
   ],
   "source": [
    "part1[1].quicklook()"
   ]
  },
  {
   "cell_type": "code",
   "execution_count": 92,
   "id": "4fb40da3-451d-4c57-8905-03e8595e0304",
   "metadata": {},
   "outputs": [
    {
     "name": "stdout",
     "output_type": "stream",
     "text": [
      "INFO: Auto-setting vmin to -9.688e-02 [aplpy.core]\n",
      "INFO: Auto-setting vmax to  1.075e+00 [aplpy.core]\n"
     ]
    },
    {
     "data": {
      "image/png": "[encoded data removed]",
      "text/plain": [
       "<Figure size 720x648 with 2 Axes>"
      ]
     },
     "metadata": {
      "needs_background": "light"
     },
     "output_type": "display_data"
    }
   ],
   "source": [
    "part2[1].quicklook()"
   ]
  },
  {
   "cell_type": "code",
   "execution_count": 93,
   "id": "b94a938e-e693-4706-9901-fbbd08f073cc",
   "metadata": {},
   "outputs": [
    {
     "name": "stderr",
     "output_type": "stream",
     "text": [
      "WARNING: PossiblySlowWarning: This function (<function BaseSpectralCube.reproject at 0x2acdb4820040>) requires loading the entire cube into memory and may therefore be slow. [spectral_cube.utils]\n",
      "WARNING: No observer defined on WCS, SpectralCoord will be converted without any velocity frame change [astropy.wcs.wcsapi.fitswcs]\n",
      "/orange/adamginsburg/miniconda3/envs/python39/lib/python3.9/site-packages/astropy/units/equivalencies.py:122: RuntimeWarning: divide by zero encountered in double_scalars\n",
      "  (si.m, si.Hz, lambda x: _si.c.value / x),\n",
      "/orange/adamginsburg/miniconda3/envs/python39/lib/python3.9/site-packages/astropy/units/equivalencies.py:403: RuntimeWarning: invalid value encountered in subtract\n",
      "  return ckms * (restfreq-x) / x\n",
      "WARNING: No observer defined on WCS, SpectralCoord will be converted without any velocity frame change [astropy.wcs.wcsapi.fitswcs]\n",
      "WARNING: No observer defined on WCS, SpectralCoord will be converted without any velocity frame change [astropy.wcs.wcsapi.fitswcs]\n",
      "WARNING: No observer defined on WCS, SpectralCoord will be converted without any velocity frame change [astropy.wcs.wcsapi.fitswcs]\n",
      "WARNING: PossiblySlowWarning: This function (<function BaseSpectralCube.sum at 0x2acdb481a790>) requires loading the entire cube into memory and may therefore be slow. [spectral_cube.utils]\n",
      "WARNING: PossiblySlowWarning: This function (<function BaseSpectralCube.sum at 0x2acdb481a790>) requires loading the entire cube into memory and may therefore be slow. [spectral_cube.utils]\n"
     ]
    },
    {
     "data": {
      "text/plain": [
       "(<Quantity 0. K>, <Quantity 8.13060771 K>)"
      ]
     },
     "execution_count": 93,
     "metadata": {},
     "output_type": "execute_result"
    }
   ],
   "source": [
    "xx = part1.reproject(part1.header, order='nearest-neighbor')\n",
    "xx.sum(), part1.sum()"
   ]
  },
  {
   "cell_type": "code",
   "execution_count": 79,
   "id": "c3aa5ada-df0c-4c20-ba60-cdfc6a2206f7",
   "metadata": {},
   "outputs": [
    {
     "name": "stderr",
     "output_type": "stream",
     "text": [
      "WARNING: PossiblySlowWarning: This function (<function BaseSpectralCube.reproject at 0x2acdb4820040>) requires loading the entire cube into memory and may therefore be slow. [spectral_cube.utils]\n",
      "WARNING: No observer defined on WCS, SpectralCoord will be converted without any velocity frame change [astropy.wcs.wcsapi.fitswcs]\n",
      "/orange/adamginsburg/miniconda3/envs/python39/lib/python3.9/site-packages/astropy/units/equivalencies.py:122: RuntimeWarning: divide by zero encountered in double_scalars\n",
      "  (si.m, si.Hz, lambda x: _si.c.value / x),\n",
      "/orange/adamginsburg/miniconda3/envs/python39/lib/python3.9/site-packages/astropy/units/equivalencies.py:403: RuntimeWarning: invalid value encountered in subtract\n",
      "  return ckms * (restfreq-x) / x\n",
      "WARNING: No observer defined on WCS, SpectralCoord will be converted without any velocity frame change [astropy.wcs.wcsapi.fitswcs]\n",
      "WARNING: No observer defined on WCS, SpectralCoord will be converted without any velocity frame change [astropy.wcs.wcsapi.fitswcs]\n",
      "WARNING: No observer defined on WCS, SpectralCoord will be converted without any velocity frame change [astropy.wcs.wcsapi.fitswcs]\n",
      "WARNING: No observer defined on WCS, SpectralCoord will be converted without any velocity frame change [astropy.wcs.wcsapi.fitswcs]\n",
      "WARNING: No observer defined on WCS, SpectralCoord will be converted without any velocity frame change [astropy.wcs.wcsapi.fitswcs]\n",
      "WARNING: No observer defined on WCS, SpectralCoord will be converted without any velocity frame change [astropy.wcs.wcsapi.fitswcs]\n",
      "WARNING: No observer defined on WCS, SpectralCoord will be converted without any velocity frame change [astropy.wcs.wcsapi.fitswcs]\n",
      "WARNING: PossiblySlowWarning: This function (<function BaseSpectralCube.sum at 0x2acdb481a790>) requires loading the entire cube into memory and may therefore be slow. [spectral_cube.utils]\n",
      "WARNING: PossiblySlowWarning: This function (<function BaseSpectralCube.reproject at 0x2acdb4820040>) requires loading the entire cube into memory and may therefore be slow. [spectral_cube.utils]\n"
     ]
    },
    {
     "name": "stdout",
     "output_type": "stream",
     "text": [
      "0.0 K 0.0\n",
      "Total in mask: 0.0\n",
      "0.0 K 0.0\n",
      "Total in mask: 0.0\n"
     ]
    },
    {
     "name": "stderr",
     "output_type": "stream",
     "text": [
      "WARNING: No observer defined on WCS, SpectralCoord will be converted without any velocity frame change [astropy.wcs.wcsapi.fitswcs]\n",
      "/orange/adamginsburg/miniconda3/envs/python39/lib/python3.9/site-packages/astropy/units/equivalencies.py:122: RuntimeWarning: divide by zero encountered in double_scalars\n",
      "  (si.m, si.Hz, lambda x: _si.c.value / x),\n",
      "/orange/adamginsburg/miniconda3/envs/python39/lib/python3.9/site-packages/astropy/units/equivalencies.py:403: RuntimeWarning: invalid value encountered in subtract\n",
      "  return ckms * (restfreq-x) / x\n",
      "WARNING: No observer defined on WCS, SpectralCoord will be converted without any velocity frame change [astropy.wcs.wcsapi.fitswcs]\n",
      "WARNING: No observer defined on WCS, SpectralCoord will be converted without any velocity frame change [astropy.wcs.wcsapi.fitswcs]\n",
      "WARNING: No observer defined on WCS, SpectralCoord will be converted without any velocity frame change [astropy.wcs.wcsapi.fitswcs]\n",
      "WARNING: No observer defined on WCS, SpectralCoord will be converted without any velocity frame change [astropy.wcs.wcsapi.fitswcs]\n",
      "WARNING: No observer defined on WCS, SpectralCoord will be converted without any velocity frame change [astropy.wcs.wcsapi.fitswcs]\n",
      "WARNING: No observer defined on WCS, SpectralCoord will be converted without any velocity frame change [astropy.wcs.wcsapi.fitswcs]\n",
      "WARNING: No observer defined on WCS, SpectralCoord will be converted without any velocity frame change [astropy.wcs.wcsapi.fitswcs]\n",
      "WARNING: PossiblySlowWarning: This function (<function BaseSpectralCube.sum at 0x2acdb481a790>) requires loading the entire cube into memory and may therefore be slow. [spectral_cube.utils]\n",
      "/scratch/local/45915091/ipykernel_19138/3346174186.py:39: RuntimeWarning: invalid value encountered in divide\n",
      "  final_array[ss] /= mask_opt\n"
     ]
    }
   ],
   "source": [
    "    masks = []\n",
    "    cube1 = cubes[0]\n",
    "    header = cube1.header\n",
    "\n",
    "    # Create a header for a field containing all cubes\n",
    "    for cu in cubes[1:]:\n",
    "        header = combine_headers(header, cu.header)\n",
    "\n",
    "    # Prepare an array and mask for the final cube\n",
    "    shape_opt = (header['NAXIS3'], header['NAXIS2'], header['NAXIS1'])\n",
    "    final_array = np.zeros(shape_opt)\n",
    "    mask_opt = np.zeros(shape_opt[1:])\n",
    "\n",
    "    for cube in cubes:\n",
    "        # Reproject cubes to the header\n",
    "        try:\n",
    "            cube_repr = cube.reproject(header, block_size=[spectral_block_size, cube.shape[1], cube.shape[2]], **kwargs)\n",
    "        except TypeError:\n",
    "            warnings.warn(\"The block_size argument is not accepted by `reproject`.  A more recent version may be needed.\")\n",
    "            cube_repr = cube.reproject(header, **kwargs)\n",
    "        print(cube_repr.sum(), np.nansum(cube_repr))\n",
    "\n",
    "        # Create weighting mask\n",
    "        mask = (cube_repr[0:1].get_mask_array()[0])\n",
    "        masks.append(mask)\n",
    "        mask_opt += mask.astype(float)\n",
    "        print(f'Total in mask: {mask_opt.sum()}')\n",
    "\n",
    "        # Go through each slice of the cube, add it to the final array\n",
    "        for ii in range(final_array.shape[0]):\n",
    "            slice1 = np.nan_to_num(cube_repr[ii])\n",
    "            final_array[ii] = final_array[ii] + slice1\n",
    "\n",
    "    # Dividing by the mask throws errors where it is zero\n",
    "    with np.errstate(divide='ignore'):\n",
    "\n",
    "        # Use weighting mask to average where cubes overlap\n",
    "        for ss in range(final_array.shape[0]):\n",
    "            final_array[ss] /= mask_opt\n",
    "\n",
    "    # Create Cube\n",
    "    # TODO: this should use the same cube type as cube1\n",
    "    cube = cube1.__class__(data=final_array*cube1.unit, wcs=WCS(header))"
   ]
  },
  {
   "cell_type": "code",
   "execution_count": 45,
   "id": "13f7ccfa-1ed3-4823-9b7b-9cdd2a9d24aa",
   "metadata": {},
   "outputs": [],
   "source": [
    "import pylab as pl"
   ]
  },
  {
   "cell_type": "code",
   "execution_count": 46,
   "id": "84548726-6291-43e3-ac9d-4b81f0ab793d",
   "metadata": {},
   "outputs": [
    {
     "data": {
      "text/plain": [
       "<matplotlib.image.AxesImage at 0x2acdc99dba90>"
      ]
     },
     "execution_count": 46,
     "metadata": {},
     "output_type": "execute_result"
    },
    {
     "data": {
      "image/png": "[encoded data removed]",
      "text/plain": [
       "<Figure size 432x288 with 1 Axes>"
      ]
     },
     "metadata": {
      "needs_background": "light"
     },
     "output_type": "display_data"
    }
   ],
   "source": [
    "pl.imshow(masks[0])"
   ]
  },
  {
   "cell_type": "code",
   "execution_count": 47,
   "id": "0173f7b1-663e-4cd7-8c4d-e0e2c00d0ba5",
   "metadata": {},
   "outputs": [
    {
     "data": {
      "text/plain": [
       "<matplotlib.image.AxesImage at 0x2acdc942cf40>"
      ]
     },
     "execution_count": 47,
     "metadata": {},
     "output_type": "execute_result"
    },
    {
     "data": {
      "image/png": "[encoded data removed]",
      "text/plain": [
       "<Figure size 432x288 with 1 Axes>"
      ]
     },
     "metadata": {
      "needs_background": "light"
     },
     "output_type": "display_data"
    }
   ],
   "source": [
    "pl.imshow(masks[1])"
   ]
  },
  {
   "cell_type": "code",
   "execution_count": 49,
   "id": "01261ff5-7449-4868-949d-7705d8fa02dc",
   "metadata": {},
   "outputs": [
    {
     "data": {
      "text/plain": [
       "(4, 3, 2)"
      ]
     },
     "execution_count": 49,
     "metadata": {},
     "output_type": "execute_result"
    }
   ],
   "source": [
    "final_array.shape"
   ]
  },
  {
   "cell_type": "code",
   "execution_count": 50,
   "id": "eb6fb31c-a290-410f-8e75-bfa593e14e9f",
   "metadata": {},
   "outputs": [
    {
     "data": {
      "text/plain": [
       "nan"
      ]
     },
     "execution_count": 50,
     "metadata": {},
     "output_type": "execute_result"
    }
   ],
   "source": [
    "final_array[0,0,0]"
   ]
  },
  {
   "cell_type": "code",
   "execution_count": 51,
   "id": "67628764-afc4-4209-b53b-35bbc11acc18",
   "metadata": {},
   "outputs": [
    {
     "data": {
      "text/plain": [
       "<matplotlib.image.AxesImage at 0x2acdc9b91dc0>"
      ]
     },
     "execution_count": 51,
     "metadata": {},
     "output_type": "execute_result"
    },
    {
     "data": {
      "image/png": "[encoded data removed]",
      "text/plain": [
       "<Figure size 432x288 with 1 Axes>"
      ]
     },
     "metadata": {
      "needs_background": "light"
     },
     "output_type": "display_data"
    }
   ],
   "source": [
    "pl.imshow(final_array[0,:,:])"
   ]
  },
  {
   "cell_type": "code",
   "execution_count": 52,
   "id": "7577911b-f26b-4cf5-bb19-72f4d4fff65a",
   "metadata": {},
   "outputs": [
    {
     "data": {
      "text/plain": [
       "<matplotlib.image.AxesImage at 0x2acdc9bfbaf0>"
      ]
     },
     "execution_count": 52,
     "metadata": {},
     "output_type": "execute_result"
    },
    {
     "data": {
      "image/png": "[encoded data removed]",
      "text/plain": [
       "<Figure size 432x288 with 1 Axes>"
      ]
     },
     "metadata": {
      "needs_background": "light"
     },
     "output_type": "display_data"
    }
   ],
   "source": [
    "pl.imshow((mask_opt == 0) & (final_array[0,:,:] != 0))"
   ]
  },
  {
   "cell_type": "code",
   "execution_count": 53,
   "id": "9baa4016-59aa-48ae-ae0c-a8aea3171438",
   "metadata": {},
   "outputs": [
    {
     "data": {
      "text/plain": [
       "[DaskSpectralCube with shape=(4, 2, 2) and unit=K and chunk size (4, 2, 2):\n",
       "  n_x:      2  type_x: RA---SIN  unit_x: deg    range:    24.062698 deg:   24.063344 deg\n",
       "  n_y:      2  type_y: DEC--SIN  unit_y: deg    range:    29.934094 deg:   29.934654 deg\n",
       "  n_s:      4  type_s: VOPT      unit_s: km / s  range:     -321.215 km / s:    -317.350 km / s,\n",
       " DaskSpectralCube with shape=(4, 2, 2) and unit=K and chunk size (4, 2, 2):\n",
       "  n_x:      2  type_x: RA---SIN  unit_x: deg    range:    24.062703 deg:   24.063349 deg\n",
       "  n_y:      2  type_y: DEC--SIN  unit_y: deg    range:    29.934649 deg:   29.935209 deg\n",
       "  n_s:      4  type_s: VOPT      unit_s: km / s  range:     -321.215 km / s:    -317.350 km / s]"
      ]
     },
     "execution_count": 53,
     "metadata": {},
     "output_type": "execute_result"
    }
   ],
   "source": [
    "cubes"
   ]
  }
 ],
 "metadata": {
  "kernelspec": {
   "display_name": "python39",
   "language": "python",
   "name": "python39"
  },
  "language_info": {
   "codemirror_mode": {
    "name": "ipython",
    "version": 3
   },
   "file_extension": ".py",
   "mimetype": "text/x-python",
   "name": "python",
   "nbconvert_exporter": "python",
   "pygments_lexer": "ipython3",
   "version": "3.9.13"
  }
 },
 "nbformat": 4,
 "nbformat_minor": 5
}
