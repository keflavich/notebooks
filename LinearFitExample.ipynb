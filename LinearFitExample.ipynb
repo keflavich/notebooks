{
 "cells": [
  {
   "cell_type": "code",
   "execution_count": 25,
   "id": "advisory-revolution",
   "metadata": {},
   "outputs": [
    {
     "data": {
      "text/plain": [
       "<matplotlib.legend.Legend at 0x2b3b68b48f28>"
      ]
     },
     "execution_count": 25,
     "metadata": {},
     "output_type": "execute_result"
    },
    {
     "data": {
      "image/png": "[encoded data removed]",
      "text/plain": [
       "<Figure size 432x288 with 1 Axes>"
      ]
     },
     "metadata": {
      "needs_background": "light"
     },
     "output_type": "display_data"
    }
   ],
   "source": [
    "import numpy as np\n",
    "import matplotlib.pyplot as plt\n",
    "from astropy.modeling import models, fitting\n",
    "\n",
    "# define a model for a line\n",
    "line_orig = models.Linear1D(slope=1.0, intercept=0.5)\n",
    "\n",
    "# generate x, y data non-uniformly spaced in x\n",
    "# add noise to y measurements\n",
    "npts = 30\n",
    "np.random.seed(10)\n",
    "x = np.random.uniform(0.0, 10.0, npts)\n",
    "y = line_orig(x)\n",
    "yunc = np.absolute(np.random.normal(0.5, 2.5, npts))\n",
    "y += np.random.normal(0.0, yunc, npts)\n",
    "\n",
    "# initialize a linear fitter\n",
    "fit = fitting.LinearLSQFitter()\n",
    "\n",
    "# initialize a linear model\n",
    "line_init = models.Linear1D()\n",
    "\n",
    "# fit the data with the fitter\n",
    "fitted_line = fit(line_init, x, y, weights=1.0/yunc)\n",
    "\n",
    "# plot\n",
    "plt.figure()\n",
    "plt.errorbar(x, y, yerr=yunc, fmt='ko', label='Data')\n",
    "plt.plot(x, line_orig(x), 'b-', label='Simulation Model')\n",
    "plt.plot(x, fitted_line(x), 'k-', label='Fitted Model')\n",
    "plt.xlabel('x')\n",
    "plt.ylabel('y')\n",
    "plt.legend()"
   ]
  },
  {
   "cell_type": "code",
   "execution_count": 26,
   "id": "marked-seven",
   "metadata": {},
   "outputs": [
    {
     "data": {
      "text/plain": [
       "{'residuals': array([35.17396818]),\n",
       " 'rank': 2,\n",
       " 'singular_values': array([0.029625  , 0.00037749]),\n",
       " 'params': array([0.98872862, 0.63775451])}"
      ]
     },
     "execution_count": 26,
     "metadata": {},
     "output_type": "execute_result"
    }
   ],
   "source": [
    "fit.fit_info"
   ]
  },
  {
   "cell_type": "code",
   "execution_count": 27,
   "id": "charming-patch",
   "metadata": {},
   "outputs": [
    {
     "data": {
      "text/plain": [
       "35.17396817780942"
      ]
     },
     "execution_count": 27,
     "metadata": {},
     "output_type": "execute_result"
    }
   ],
   "source": [
    "chi2 = ((y - fitted_line(x)) / yunc)**2\n",
    "chi2.sum()"
   ]
  },
  {
   "cell_type": "markdown",
   "id": "violent-center",
   "metadata": {},
   "source": [
    "$$ Cov = [A^T C^{-1} A]^{-1}$$"
   ]
  },
  {
   "cell_type": "code",
   "execution_count": 28,
   "id": "hairy-arrest",
   "metadata": {},
   "outputs": [
    {
     "data": {
      "text/plain": [
       "array([[1.        , 1.        , 1.        , 1.        , 1.        ,\n",
       "        1.        , 1.        , 1.        , 1.        , 1.        ,\n",
       "        1.        , 1.        , 1.        , 1.        , 1.        ,\n",
       "        1.        , 1.        , 1.        , 1.        , 1.        ,\n",
       "        1.        , 1.        , 1.        , 1.        , 1.        ,\n",
       "        1.        , 1.        , 1.        , 1.        , 1.        ],\n",
       "       [7.71320643, 0.20751949, 6.33648235, 7.48803883, 4.98507012,\n",
       "        2.24796646, 1.98062865, 7.60530712, 1.69110837, 0.88339814,\n",
       "        6.85359818, 9.53393346, 0.03948266, 5.12192263, 8.12620962,\n",
       "        6.12526067, 7.21755317, 2.91876068, 9.17774123, 7.14575783,\n",
       "        5.42544368, 1.42170048, 3.7334076 , 6.74133615, 4.41833174,\n",
       "        4.34013993, 6.17766978, 5.13138243, 6.50397182, 6.01038953]])"
      ]
     },
     "execution_count": 28,
     "metadata": {},
     "output_type": "execute_result"
    }
   ],
   "source": [
    "A = np.array([ np.ones_like(x),  x,])\n",
    "A"
   ]
  },
  {
   "cell_type": "code",
   "execution_count": 29,
   "id": "unavailable-enlargement",
   "metadata": {},
   "outputs": [
    {
     "data": {
      "text/plain": [
       "array([[ 0.18649006, -0.02760471],\n",
       "       [-0.02760471,  0.00438608]])"
      ]
     },
     "execution_count": 29,
     "metadata": {},
     "output_type": "execute_result"
    }
   ],
   "source": [
    "np.linalg.inv(np.dot(np.dot(A, np.linalg.inv(np.diagflat(yunc))), A.T))"
   ]
  },
  {
   "cell_type": "code",
   "execution_count": 30,
   "id": "standing-phase",
   "metadata": {},
   "outputs": [],
   "source": [
    "covmat = np.linalg.inv(np.dot(np.dot(A, np.linalg.inv(np.diagflat(yunc))), A.T))"
   ]
  },
  {
   "cell_type": "code",
   "execution_count": 31,
   "id": "corresponding-switch",
   "metadata": {},
   "outputs": [],
   "source": [
    "b_unc = covmat[0,0]**0.5\n",
    "m_unc = covmat[1,1]**0.5\n",
    "m,b=fit.fit_info['params']"
   ]
  },
  {
   "cell_type": "code",
   "execution_count": 32,
   "id": "gross-compatibility",
   "metadata": {},
   "outputs": [
    {
     "name": "stdout",
     "output_type": "stream",
     "text": [
      "y=0.9887286202586674+/-0.06622751098813856 x + 0.637754514785926 +/- 0.43184494523754424\n"
     ]
    }
   ],
   "source": [
    "print(f\"y={m}+/-{m_unc} x + {b} +/- {b_unc}\")"
   ]
  },
  {
   "cell_type": "markdown",
   "id": "personal-toddler",
   "metadata": {},
   "source": [
    "# Gaussian and inverse Gaussian..."
   ]
  },
  {
   "cell_type": "code",
   "execution_count": 46,
   "id": "circular-residence",
   "metadata": {},
   "outputs": [],
   "source": [
    "# 10000 random samples  for Q = 1/x\n",
    "Q = np.random.randn(10000)*5 + 100\n",
    "# x ~ 1/q"
   ]
  },
  {
   "cell_type": "code",
   "execution_count": 47,
   "id": "hungry-gibraltar",
   "metadata": {},
   "outputs": [],
   "source": [
    "import pylab as pl"
   ]
  },
  {
   "cell_type": "code",
   "execution_count": 48,
   "id": "funny-basket",
   "metadata": {},
   "outputs": [
    {
     "data": {
      "image/png": "[encoded data removed]",
      "text/plain": [
       "<Figure size 432x288 with 1 Axes>"
      ]
     },
     "metadata": {
      "needs_background": "light"
     },
     "output_type": "display_data"
    }
   ],
   "source": [
    "_=pl.hist(Q, bins=50)"
   ]
  },
  {
   "cell_type": "code",
   "execution_count": 49,
   "id": "sorted-billy",
   "metadata": {},
   "outputs": [
    {
     "data": {
      "image/png": "[encoded data removed]",
      "text/plain": [
       "<Figure size 432x288 with 1 Axes>"
      ]
     },
     "metadata": {
      "needs_background": "light"
     },
     "output_type": "display_data"
    }
   ],
   "source": [
    "_=pl.hist(1/Q, bins=50)"
   ]
  },
  {
   "cell_type": "code",
   "execution_count": 50,
   "id": "threatened-rough",
   "metadata": {},
   "outputs": [
    {
     "data": {
      "text/plain": [
       "(0.05135057196716816, 0.05071682975538716)"
      ]
     },
     "execution_count": 50,
     "metadata": {},
     "output_type": "execute_result"
    }
   ],
   "source": [
    "Q.mean() * np.std(1/Q), np.std(Q)/Q.mean()"
   ]
  },
  {
   "cell_type": "markdown",
   "id": "unsigned-leisure",
   "metadata": {},
   "source": [
    "$ Q = 1/x $"
   ]
  },
  {
   "cell_type": "markdown",
   "id": "together-clearance",
   "metadata": {},
   "source": [
    "$\\sigma_{Q} / Q = Q \\sigma_{1/Q} = Q \\sigma_{x} = 1/x \\sigma x$\n",
    "\n",
    "$\\sigma_Q / Q = \\sigma_x / x$"
   ]
  },
  {
   "cell_type": "code",
   "execution_count": 60,
   "id": "narrow-florence",
   "metadata": {},
   "outputs": [],
   "source": [
    "x = 1/Q\n",
    "sigma_q = np.std(Q)\n",
    "sigma_x = sigma_q / Q * x "
   ]
  },
  {
   "cell_type": "code",
   "execution_count": 61,
   "id": "governmental-roommate",
   "metadata": {},
   "outputs": [
    {
     "data": {
      "text/plain": [
       "0.0005113345415491361"
      ]
     },
     "execution_count": 61,
     "metadata": {},
     "output_type": "execute_result"
    }
   ],
   "source": [
    "sigma_x.mean()"
   ]
  },
  {
   "cell_type": "code",
   "execution_count": 62,
   "id": "confident-ambassador",
   "metadata": {},
   "outputs": [
    {
     "data": {
      "text/plain": [
       "0.0005136973354662269"
      ]
     },
     "execution_count": 62,
     "metadata": {},
     "output_type": "execute_result"
    }
   ],
   "source": [
    "np.std(x)"
   ]
  },
  {
   "cell_type": "code",
   "execution_count": null,
   "id": "identified-comfort",
   "metadata": {},
   "outputs": [],
   "source": []
  }
 ],
 "metadata": {
  "kernelspec": {
   "display_name": "Python 3.7",
   "language": "python",
   "name": "py37"
  },
  "language_info": {
   "codemirror_mode": {
    "name": "ipython",
    "version": 3
   },
   "file_extension": ".py",
   "mimetype": "text/x-python",
   "name": "python",
   "nbconvert_exporter": "python",
   "pygments_lexer": "ipython3",
   "version": "3.7.3"
  }
 },
 "nbformat": 4,
 "nbformat_minor": 5
}
